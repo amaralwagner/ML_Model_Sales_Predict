{
 "cells": [
  {
   "cell_type": "code",
   "execution_count": 1,
   "id": "e9628021",
   "metadata": {
    "_cell_guid": "b1076dfc-b9ad-4769-8c92-a6c4dae69d19",
    "_uuid": "8f2839f25d086af736a60e9eeb907d3b93b6e0e5",
    "execution": {
     "iopub.execute_input": "2024-09-02T21:29:14.471603Z",
     "iopub.status.busy": "2024-09-02T21:29:14.471170Z",
     "iopub.status.idle": "2024-09-02T21:29:14.884153Z",
     "shell.execute_reply": "2024-09-02T21:29:14.882905Z"
    },
    "papermill": {
     "duration": 0.422864,
     "end_time": "2024-09-02T21:29:14.887567",
     "exception": false,
     "start_time": "2024-09-02T21:29:14.464703",
     "status": "completed"
    },
    "tags": []
   },
   "outputs": [
    {
     "name": "stdout",
     "output_type": "stream",
     "text": [
      "/kaggle/input/train1/train1.csv\n"
     ]
    }
   ],
   "source": [
    "import numpy as np # linear algebra\n",
    "import pandas as pd # data processing, CSV file I/O (e.g. pd.read_csv)\n",
    "\n",
    "import os\n",
    "for dirname, _, filenames in os.walk('/kaggle/input'):\n",
    "    for filename in filenames:\n",
    "        print(os.path.join(dirname, filename))\n",
    "\n"
   ]
  },
  {
   "cell_type": "code",
   "execution_count": 2,
   "id": "70b521e0",
   "metadata": {
    "execution": {
     "iopub.execute_input": "2024-09-02T21:29:14.897833Z",
     "iopub.status.busy": "2024-09-02T21:29:14.897306Z",
     "iopub.status.idle": "2024-09-02T21:29:16.736702Z",
     "shell.execute_reply": "2024-09-02T21:29:16.735474Z"
    },
    "papermill": {
     "duration": 1.847706,
     "end_time": "2024-09-02T21:29:16.739532",
     "exception": false,
     "start_time": "2024-09-02T21:29:14.891826",
     "status": "completed"
    },
    "tags": []
   },
   "outputs": [],
   "source": [
    "from sklearn.model_selection import train_test_split\n",
    "from sklearn.preprocessing import StandardScaler, MinMaxScaler\n",
    "from sklearn.metrics import accuracy_score, confusion_matrix, classification_report\n",
    "from sklearn.linear_model import LinearRegression, LogisticRegression\n",
    "from sklearn.ensemble import RandomForestClassifier, GradientBoostingClassifier\n",
    "from sklearn.svm import SVC\n",
    "from sklearn.neighbors import KNeighborsClassifier\n",
    "from sklearn.naive_bayes import GaussianNB\n",
    "from sklearn.decomposition import PCA\n",
    "from sklearn.cluster import KMeans"
   ]
  },
  {
   "cell_type": "code",
   "execution_count": 3,
   "id": "7457c795",
   "metadata": {
    "execution": {
     "iopub.execute_input": "2024-09-02T21:29:16.749482Z",
     "iopub.status.busy": "2024-09-02T21:29:16.748823Z",
     "iopub.status.idle": "2024-09-02T21:29:16.833589Z",
     "shell.execute_reply": "2024-09-02T21:29:16.832347Z"
    },
    "papermill": {
     "duration": 0.092607,
     "end_time": "2024-09-02T21:29:16.836127",
     "exception": false,
     "start_time": "2024-09-02T21:29:16.743520",
     "status": "completed"
    },
    "tags": []
   },
   "outputs": [
    {
     "data": {
      "text/html": [
       "<div>\n",
       "<style scoped>\n",
       "    .dataframe tbody tr th:only-of-type {\n",
       "        vertical-align: middle;\n",
       "    }\n",
       "\n",
       "    .dataframe tbody tr th {\n",
       "        vertical-align: top;\n",
       "    }\n",
       "\n",
       "    .dataframe thead th {\n",
       "        text-align: right;\n",
       "    }\n",
       "</style>\n",
       "<table border=\"1\" class=\"dataframe\">\n",
       "  <thead>\n",
       "    <tr style=\"text-align: right;\">\n",
       "      <th></th>\n",
       "      <th>Id</th>\n",
       "      <th>MSSubClass</th>\n",
       "      <th>MSZoning</th>\n",
       "      <th>LotFrontage</th>\n",
       "      <th>LotArea</th>\n",
       "      <th>Street</th>\n",
       "      <th>Alley</th>\n",
       "      <th>LotShape</th>\n",
       "      <th>LandContour</th>\n",
       "      <th>Utilities</th>\n",
       "      <th>...</th>\n",
       "      <th>PoolArea</th>\n",
       "      <th>PoolQC</th>\n",
       "      <th>Fence</th>\n",
       "      <th>MiscFeature</th>\n",
       "      <th>MiscVal</th>\n",
       "      <th>MoSold</th>\n",
       "      <th>YrSold</th>\n",
       "      <th>SaleType</th>\n",
       "      <th>SaleCondition</th>\n",
       "      <th>SalePrice</th>\n",
       "    </tr>\n",
       "  </thead>\n",
       "  <tbody>\n",
       "    <tr>\n",
       "      <th>0</th>\n",
       "      <td>1</td>\n",
       "      <td>60</td>\n",
       "      <td>RL</td>\n",
       "      <td>65.0</td>\n",
       "      <td>8450</td>\n",
       "      <td>Pave</td>\n",
       "      <td>NaN</td>\n",
       "      <td>Reg</td>\n",
       "      <td>Lvl</td>\n",
       "      <td>AllPub</td>\n",
       "      <td>...</td>\n",
       "      <td>0</td>\n",
       "      <td>NaN</td>\n",
       "      <td>NaN</td>\n",
       "      <td>NaN</td>\n",
       "      <td>0</td>\n",
       "      <td>2</td>\n",
       "      <td>2008</td>\n",
       "      <td>WD</td>\n",
       "      <td>Normal</td>\n",
       "      <td>208500</td>\n",
       "    </tr>\n",
       "    <tr>\n",
       "      <th>1</th>\n",
       "      <td>2</td>\n",
       "      <td>20</td>\n",
       "      <td>RL</td>\n",
       "      <td>80.0</td>\n",
       "      <td>9600</td>\n",
       "      <td>Pave</td>\n",
       "      <td>NaN</td>\n",
       "      <td>Reg</td>\n",
       "      <td>Lvl</td>\n",
       "      <td>AllPub</td>\n",
       "      <td>...</td>\n",
       "      <td>0</td>\n",
       "      <td>NaN</td>\n",
       "      <td>NaN</td>\n",
       "      <td>NaN</td>\n",
       "      <td>0</td>\n",
       "      <td>5</td>\n",
       "      <td>2007</td>\n",
       "      <td>WD</td>\n",
       "      <td>Normal</td>\n",
       "      <td>181500</td>\n",
       "    </tr>\n",
       "    <tr>\n",
       "      <th>2</th>\n",
       "      <td>3</td>\n",
       "      <td>60</td>\n",
       "      <td>RL</td>\n",
       "      <td>68.0</td>\n",
       "      <td>11250</td>\n",
       "      <td>Pave</td>\n",
       "      <td>NaN</td>\n",
       "      <td>IR1</td>\n",
       "      <td>Lvl</td>\n",
       "      <td>AllPub</td>\n",
       "      <td>...</td>\n",
       "      <td>0</td>\n",
       "      <td>NaN</td>\n",
       "      <td>NaN</td>\n",
       "      <td>NaN</td>\n",
       "      <td>0</td>\n",
       "      <td>9</td>\n",
       "      <td>2008</td>\n",
       "      <td>WD</td>\n",
       "      <td>Normal</td>\n",
       "      <td>223500</td>\n",
       "    </tr>\n",
       "    <tr>\n",
       "      <th>3</th>\n",
       "      <td>4</td>\n",
       "      <td>70</td>\n",
       "      <td>RL</td>\n",
       "      <td>60.0</td>\n",
       "      <td>9550</td>\n",
       "      <td>Pave</td>\n",
       "      <td>NaN</td>\n",
       "      <td>IR1</td>\n",
       "      <td>Lvl</td>\n",
       "      <td>AllPub</td>\n",
       "      <td>...</td>\n",
       "      <td>0</td>\n",
       "      <td>NaN</td>\n",
       "      <td>NaN</td>\n",
       "      <td>NaN</td>\n",
       "      <td>0</td>\n",
       "      <td>2</td>\n",
       "      <td>2006</td>\n",
       "      <td>WD</td>\n",
       "      <td>Abnorml</td>\n",
       "      <td>140000</td>\n",
       "    </tr>\n",
       "    <tr>\n",
       "      <th>4</th>\n",
       "      <td>5</td>\n",
       "      <td>60</td>\n",
       "      <td>RL</td>\n",
       "      <td>84.0</td>\n",
       "      <td>14260</td>\n",
       "      <td>Pave</td>\n",
       "      <td>NaN</td>\n",
       "      <td>IR1</td>\n",
       "      <td>Lvl</td>\n",
       "      <td>AllPub</td>\n",
       "      <td>...</td>\n",
       "      <td>0</td>\n",
       "      <td>NaN</td>\n",
       "      <td>NaN</td>\n",
       "      <td>NaN</td>\n",
       "      <td>0</td>\n",
       "      <td>12</td>\n",
       "      <td>2008</td>\n",
       "      <td>WD</td>\n",
       "      <td>Normal</td>\n",
       "      <td>250000</td>\n",
       "    </tr>\n",
       "  </tbody>\n",
       "</table>\n",
       "<p>5 rows × 81 columns</p>\n",
       "</div>"
      ],
      "text/plain": [
       "   Id  MSSubClass MSZoning  LotFrontage  LotArea Street Alley LotShape  \\\n",
       "0   1          60       RL         65.0     8450   Pave   NaN      Reg   \n",
       "1   2          20       RL         80.0     9600   Pave   NaN      Reg   \n",
       "2   3          60       RL         68.0    11250   Pave   NaN      IR1   \n",
       "3   4          70       RL         60.0     9550   Pave   NaN      IR1   \n",
       "4   5          60       RL         84.0    14260   Pave   NaN      IR1   \n",
       "\n",
       "  LandContour Utilities  ... PoolArea PoolQC Fence MiscFeature MiscVal MoSold  \\\n",
       "0         Lvl    AllPub  ...        0    NaN   NaN         NaN       0      2   \n",
       "1         Lvl    AllPub  ...        0    NaN   NaN         NaN       0      5   \n",
       "2         Lvl    AllPub  ...        0    NaN   NaN         NaN       0      9   \n",
       "3         Lvl    AllPub  ...        0    NaN   NaN         NaN       0      2   \n",
       "4         Lvl    AllPub  ...        0    NaN   NaN         NaN       0     12   \n",
       "\n",
       "  YrSold  SaleType  SaleCondition  SalePrice  \n",
       "0   2008        WD         Normal     208500  \n",
       "1   2007        WD         Normal     181500  \n",
       "2   2008        WD         Normal     223500  \n",
       "3   2006        WD        Abnorml     140000  \n",
       "4   2008        WD         Normal     250000  \n",
       "\n",
       "[5 rows x 81 columns]"
      ]
     },
     "execution_count": 3,
     "metadata": {},
     "output_type": "execute_result"
    }
   ],
   "source": [
    "df = pd.read_csv('/kaggle/input/train1/train1.csv')\n",
    "df.head()"
   ]
  },
  {
   "cell_type": "code",
   "execution_count": 4,
   "id": "afb9a8ed",
   "metadata": {
    "execution": {
     "iopub.execute_input": "2024-09-02T21:29:16.847299Z",
     "iopub.status.busy": "2024-09-02T21:29:16.846851Z",
     "iopub.status.idle": "2024-09-02T21:29:16.860989Z",
     "shell.execute_reply": "2024-09-02T21:29:16.859843Z"
    },
    "papermill": {
     "duration": 0.022204,
     "end_time": "2024-09-02T21:29:16.863316",
     "exception": false,
     "start_time": "2024-09-02T21:29:16.841112",
     "status": "completed"
    },
    "tags": []
   },
   "outputs": [
    {
     "data": {
      "text/plain": [
       "Id               0.000000\n",
       "MSSubClass       0.000000\n",
       "MSZoning         0.000000\n",
       "LotFrontage      0.177397\n",
       "LotArea          0.000000\n",
       "                   ...   \n",
       "MoSold           0.000000\n",
       "YrSold           0.000000\n",
       "SaleType         0.000000\n",
       "SaleCondition    0.000000\n",
       "SalePrice        0.000000\n",
       "Length: 81, dtype: float64"
      ]
     },
     "execution_count": 4,
     "metadata": {},
     "output_type": "execute_result"
    }
   ],
   "source": [
    "#Perccentual de nulos\n",
    "df.isnull().mean()"
   ]
  },
  {
   "cell_type": "code",
   "execution_count": 5,
   "id": "585b4044",
   "metadata": {
    "execution": {
     "iopub.execute_input": "2024-09-02T21:29:16.874404Z",
     "iopub.status.busy": "2024-09-02T21:29:16.873950Z",
     "iopub.status.idle": "2024-09-02T21:29:16.892039Z",
     "shell.execute_reply": "2024-09-02T21:29:16.890813Z"
    },
    "papermill": {
     "duration": 0.026373,
     "end_time": "2024-09-02T21:29:16.894443",
     "exception": false,
     "start_time": "2024-09-02T21:29:16.868070",
     "status": "completed"
    },
    "tags": []
   },
   "outputs": [
    {
     "data": {
      "text/plain": [
       "Electrical      0.000685\n",
       "MasVnrArea      0.005479\n",
       "BsmtQual        0.025342\n",
       "BsmtCond        0.025342\n",
       "BsmtFinType1    0.025342\n",
       "BsmtExposure    0.026027\n",
       "BsmtFinType2    0.026027\n",
       "GarageCond      0.055479\n",
       "GarageQual      0.055479\n",
       "GarageFinish    0.055479\n",
       "GarageYrBlt     0.055479\n",
       "GarageType      0.055479\n",
       "LotFrontage     0.177397\n",
       "FireplaceQu     0.472603\n",
       "MasVnrType      0.597260\n",
       "Fence           0.807534\n",
       "Alley           0.937671\n",
       "MiscFeature     0.963014\n",
       "PoolQC          0.995205\n",
       "dtype: float64"
      ]
     },
     "execution_count": 5,
     "metadata": {},
     "output_type": "execute_result"
    }
   ],
   "source": [
    "#Percentual de nulos, ordenados, acima de 20% já fica complicado para usar.\n",
    "df.loc[:, df.isnull().mean()>0].isnull().mean().sort_values()"
   ]
  },
  {
   "cell_type": "code",
   "execution_count": 6,
   "id": "00174da2",
   "metadata": {
    "execution": {
     "iopub.execute_input": "2024-09-02T21:29:16.906380Z",
     "iopub.status.busy": "2024-09-02T21:29:16.905934Z",
     "iopub.status.idle": "2024-09-02T21:29:16.923296Z",
     "shell.execute_reply": "2024-09-02T21:29:16.922211Z"
    },
    "papermill": {
     "duration": 0.026328,
     "end_time": "2024-09-02T21:29:16.925772",
     "exception": false,
     "start_time": "2024-09-02T21:29:16.899444",
     "status": "completed"
    },
    "tags": []
   },
   "outputs": [
    {
     "data": {
      "text/plain": [
       "(1460, 74)"
      ]
     },
     "execution_count": 6,
     "metadata": {},
     "output_type": "execute_result"
    }
   ],
   "source": [
    "#Exlusão da análise de colunas com valores nulos > 0,17%.\n",
    "missing_proportion = df.loc[:, df.isnull().mean()>0].isnull().mean().sort_values()\n",
    "cols_to_drop = missing_proportion[missing_proportion > 0.17].index\n",
    "df = df.drop(columns=cols_to_drop)\n",
    "df.shape\n"
   ]
  },
  {
   "cell_type": "code",
   "execution_count": 7,
   "id": "9f42d2b2",
   "metadata": {
    "execution": {
     "iopub.execute_input": "2024-09-02T21:29:16.936709Z",
     "iopub.status.busy": "2024-09-02T21:29:16.936336Z",
     "iopub.status.idle": "2024-09-02T21:29:16.943790Z",
     "shell.execute_reply": "2024-09-02T21:29:16.942731Z"
    },
    "papermill": {
     "duration": 0.015459,
     "end_time": "2024-09-02T21:29:16.946016",
     "exception": false,
     "start_time": "2024-09-02T21:29:16.930557",
     "status": "completed"
    },
    "tags": []
   },
   "outputs": [],
   "source": [
    "numerical_cols = df.select_dtypes(exclude='object').columns.tolist()\n",
    "categorical_cols = df.select_dtypes(include='object').columns.tolist()\n",
    "\n",
    "numerical_cols = [col for col in numerical_cols if col not in ['SalePrice', 'Id']]"
   ]
  },
  {
   "cell_type": "code",
   "execution_count": 8,
   "id": "1f7d1525",
   "metadata": {
    "execution": {
     "iopub.execute_input": "2024-09-02T21:29:16.956901Z",
     "iopub.status.busy": "2024-09-02T21:29:16.956493Z",
     "iopub.status.idle": "2024-09-02T21:29:16.963709Z",
     "shell.execute_reply": "2024-09-02T21:29:16.962593Z"
    },
    "papermill": {
     "duration": 0.015487,
     "end_time": "2024-09-02T21:29:16.966115",
     "exception": false,
     "start_time": "2024-09-02T21:29:16.950628",
     "status": "completed"
    },
    "tags": []
   },
   "outputs": [],
   "source": [
    "X = df.drop(['SalePrice', 'Id'], axis=1)\n",
    "y = df['SalePrice']"
   ]
  },
  {
   "cell_type": "code",
   "execution_count": 9,
   "id": "07998399",
   "metadata": {
    "execution": {
     "iopub.execute_input": "2024-09-02T21:29:16.978156Z",
     "iopub.status.busy": "2024-09-02T21:29:16.977175Z",
     "iopub.status.idle": "2024-09-02T21:29:16.988896Z",
     "shell.execute_reply": "2024-09-02T21:29:16.987748Z"
    },
    "papermill": {
     "duration": 0.020197,
     "end_time": "2024-09-02T21:29:16.991479",
     "exception": false,
     "start_time": "2024-09-02T21:29:16.971282",
     "status": "completed"
    },
    "tags": []
   },
   "outputs": [],
   "source": [
    "X_train, X_test, y_train, y_test = train_test_split(X, y, test_size=0.2, random_state=42)"
   ]
  },
  {
   "cell_type": "code",
   "execution_count": 10,
   "id": "f732951b",
   "metadata": {
    "execution": {
     "iopub.execute_input": "2024-09-02T21:29:17.002703Z",
     "iopub.status.busy": "2024-09-02T21:29:17.002271Z",
     "iopub.status.idle": "2024-09-02T21:29:17.009550Z",
     "shell.execute_reply": "2024-09-02T21:29:17.008430Z"
    },
    "papermill": {
     "duration": 0.015704,
     "end_time": "2024-09-02T21:29:17.011910",
     "exception": false,
     "start_time": "2024-09-02T21:29:16.996206",
     "status": "completed"
    },
    "tags": []
   },
   "outputs": [
    {
     "data": {
      "text/plain": [
       "((1168, 72), (292, 72), (1168,), (292,))"
      ]
     },
     "execution_count": 10,
     "metadata": {},
     "output_type": "execute_result"
    }
   ],
   "source": [
    "X_train.shape, X_test.shape, y_train.shape, y_test.shape"
   ]
  },
  {
   "cell_type": "code",
   "execution_count": 11,
   "id": "5d099e68",
   "metadata": {
    "execution": {
     "iopub.execute_input": "2024-09-02T21:29:17.023381Z",
     "iopub.status.busy": "2024-09-02T21:29:17.022914Z",
     "iopub.status.idle": "2024-09-02T21:29:26.704790Z",
     "shell.execute_reply": "2024-09-02T21:29:26.703477Z"
    },
    "papermill": {
     "duration": 9.690528,
     "end_time": "2024-09-02T21:29:26.707407",
     "exception": false,
     "start_time": "2024-09-02T21:29:17.016879",
     "status": "completed"
    },
    "tags": []
   },
   "outputs": [
    {
     "data": {
      "text/html": [
       "<style>#sk-container-id-1 {color: black;background-color: white;}#sk-container-id-1 pre{padding: 0;}#sk-container-id-1 div.sk-toggleable {background-color: white;}#sk-container-id-1 label.sk-toggleable__label {cursor: pointer;display: block;width: 100%;margin-bottom: 0;padding: 0.3em;box-sizing: border-box;text-align: center;}#sk-container-id-1 label.sk-toggleable__label-arrow:before {content: \"▸\";float: left;margin-right: 0.25em;color: #696969;}#sk-container-id-1 label.sk-toggleable__label-arrow:hover:before {color: black;}#sk-container-id-1 div.sk-estimator:hover label.sk-toggleable__label-arrow:before {color: black;}#sk-container-id-1 div.sk-toggleable__content {max-height: 0;max-width: 0;overflow: hidden;text-align: left;background-color: #f0f8ff;}#sk-container-id-1 div.sk-toggleable__content pre {margin: 0.2em;color: black;border-radius: 0.25em;background-color: #f0f8ff;}#sk-container-id-1 input.sk-toggleable__control:checked~div.sk-toggleable__content {max-height: 200px;max-width: 100%;overflow: auto;}#sk-container-id-1 input.sk-toggleable__control:checked~label.sk-toggleable__label-arrow:before {content: \"▾\";}#sk-container-id-1 div.sk-estimator input.sk-toggleable__control:checked~label.sk-toggleable__label {background-color: #d4ebff;}#sk-container-id-1 div.sk-label input.sk-toggleable__control:checked~label.sk-toggleable__label {background-color: #d4ebff;}#sk-container-id-1 input.sk-hidden--visually {border: 0;clip: rect(1px 1px 1px 1px);clip: rect(1px, 1px, 1px, 1px);height: 1px;margin: -1px;overflow: hidden;padding: 0;position: absolute;width: 1px;}#sk-container-id-1 div.sk-estimator {font-family: monospace;background-color: #f0f8ff;border: 1px dotted black;border-radius: 0.25em;box-sizing: border-box;margin-bottom: 0.5em;}#sk-container-id-1 div.sk-estimator:hover {background-color: #d4ebff;}#sk-container-id-1 div.sk-parallel-item::after {content: \"\";width: 100%;border-bottom: 1px solid gray;flex-grow: 1;}#sk-container-id-1 div.sk-label:hover label.sk-toggleable__label {background-color: #d4ebff;}#sk-container-id-1 div.sk-serial::before {content: \"\";position: absolute;border-left: 1px solid gray;box-sizing: border-box;top: 0;bottom: 0;left: 50%;z-index: 0;}#sk-container-id-1 div.sk-serial {display: flex;flex-direction: column;align-items: center;background-color: white;padding-right: 0.2em;padding-left: 0.2em;position: relative;}#sk-container-id-1 div.sk-item {position: relative;z-index: 1;}#sk-container-id-1 div.sk-parallel {display: flex;align-items: stretch;justify-content: center;background-color: white;position: relative;}#sk-container-id-1 div.sk-item::before, #sk-container-id-1 div.sk-parallel-item::before {content: \"\";position: absolute;border-left: 1px solid gray;box-sizing: border-box;top: 0;bottom: 0;left: 50%;z-index: -1;}#sk-container-id-1 div.sk-parallel-item {display: flex;flex-direction: column;z-index: 1;position: relative;background-color: white;}#sk-container-id-1 div.sk-parallel-item:first-child::after {align-self: flex-end;width: 50%;}#sk-container-id-1 div.sk-parallel-item:last-child::after {align-self: flex-start;width: 50%;}#sk-container-id-1 div.sk-parallel-item:only-child::after {width: 0;}#sk-container-id-1 div.sk-dashed-wrapped {border: 1px dashed gray;margin: 0 0.4em 0.5em 0.4em;box-sizing: border-box;padding-bottom: 0.4em;background-color: white;}#sk-container-id-1 div.sk-label label {font-family: monospace;font-weight: bold;display: inline-block;line-height: 1.2em;}#sk-container-id-1 div.sk-label-container {text-align: center;}#sk-container-id-1 div.sk-container {/* jupyter's `normalize.less` sets `[hidden] { display: none; }` but bootstrap.min.css set `[hidden] { display: none !important; }` so we also need the `!important` here to be able to override the default hidden behavior on the sphinx rendered scikit-learn.org. See: https://github.com/scikit-learn/scikit-learn/issues/21755 */display: inline-block !important;position: relative;}#sk-container-id-1 div.sk-text-repr-fallback {display: none;}</style><div id=\"sk-container-id-1\" class=\"sk-top-container\"><div class=\"sk-text-repr-fallback\"><pre>RandomForestRegressor()</pre><b>In a Jupyter environment, please rerun this cell to show the HTML representation or trust the notebook. <br />On GitHub, the HTML representation is unable to render, please try loading this page with nbviewer.org.</b></div><div class=\"sk-container\" hidden><div class=\"sk-item\"><div class=\"sk-estimator sk-toggleable\"><input class=\"sk-toggleable__control sk-hidden--visually\" id=\"sk-estimator-id-1\" type=\"checkbox\" checked><label for=\"sk-estimator-id-1\" class=\"sk-toggleable__label sk-toggleable__label-arrow\">RandomForestRegressor</label><div class=\"sk-toggleable__content\"><pre>RandomForestRegressor()</pre></div></div></div></div></div>"
      ],
      "text/plain": [
       "RandomForestRegressor()"
      ]
     },
     "execution_count": 11,
     "metadata": {},
     "output_type": "execute_result"
    }
   ],
   "source": [
    "from sklearn.pipeline import Pipeline\n",
    "from sklearn.impute import SimpleImputer\n",
    "from sklearn.preprocessing import OneHotEncoder\n",
    "from sklearn.compose import ColumnTransformer\n",
    "from sklearn.ensemble import RandomForestRegressor\n",
    "\n",
    "# Pipeline para transformação de colunas numéricas\n",
    "numeric_transformer = Pipeline(steps=[\n",
    "    ('imputer', SimpleImputer(strategy='median'))\n",
    "])\n",
    "\n",
    "# Pipeline para transformação de colunas categóricas\n",
    "categorical_transformer = Pipeline(steps=[\n",
    "    (\"imputer2\", SimpleImputer(strategy='most_frequent')),\n",
    "    (\"encoder\", OneHotEncoder(handle_unknown='ignore'))  # Corrigido: handle_unknown\n",
    "])\n",
    "\n",
    "# Definição do transformador de colunas\n",
    "preprocessor = ColumnTransformer(\n",
    "    transformers=[\n",
    "        ('num', numeric_transformer, numerical_cols),\n",
    "        ('cat', categorical_transformer, categorical_cols)\n",
    "    ]\n",
    ")\n",
    "\n",
    "# Aplicando as transformações no conjunto de treino e teste\n",
    "X_train_transformed = preprocessor.fit_transform(X_train)\n",
    "X_test_transformed = preprocessor.transform(X_test)\n",
    "\n",
    "# Treinamento do modelo RandomForestRegressor\n",
    "rf = RandomForestRegressor()\n",
    "rf.fit(X_train_transformed, y_train)\n"
   ]
  },
  {
   "cell_type": "code",
   "execution_count": 12,
   "id": "8efa8928",
   "metadata": {
    "execution": {
     "iopub.execute_input": "2024-09-02T21:29:26.719174Z",
     "iopub.status.busy": "2024-09-02T21:29:26.718649Z",
     "iopub.status.idle": "2024-09-02T21:29:26.740810Z",
     "shell.execute_reply": "2024-09-02T21:29:26.739773Z"
    },
    "papermill": {
     "duration": 0.031058,
     "end_time": "2024-09-02T21:29:26.743508",
     "exception": false,
     "start_time": "2024-09-02T21:29:26.712450",
     "status": "completed"
    },
    "tags": []
   },
   "outputs": [],
   "source": [
    "y_pred = rf.predict(X_test_transformed)"
   ]
  },
  {
   "cell_type": "code",
   "execution_count": 13,
   "id": "6e8f1144",
   "metadata": {
    "execution": {
     "iopub.execute_input": "2024-09-02T21:29:26.755061Z",
     "iopub.status.busy": "2024-09-02T21:29:26.754666Z",
     "iopub.status.idle": "2024-09-02T21:29:26.765262Z",
     "shell.execute_reply": "2024-09-02T21:29:26.764230Z"
    },
    "papermill": {
     "duration": 0.018912,
     "end_time": "2024-09-02T21:29:26.767468",
     "exception": false,
     "start_time": "2024-09-02T21:29:26.748556",
     "status": "completed"
    },
    "tags": []
   },
   "outputs": [
    {
     "data": {
      "text/plain": [
       "array([142237.  , 323873.  , 116048.  , 152667.68, 317113.68,  87852.  ,\n",
       "       217262.65, 150209.14,  87337.  , 127838.12, 152724.5 , 124130.5 ,\n",
       "       116104.5 , 204895.85, 177010.  , 132890.25, 194378.8 , 134248.5 ,\n",
       "       115903.5 , 205047.22, 160739.55, 221086.52, 175625.17, 124385.1 ,\n",
       "       192178.04, 174432.61, 183458.95, 107892.  , 176541.5 , 194897.88,\n",
       "       120379.5 , 245605.93, 173568.52, 114258.  , 258955.46, 148344.  ,\n",
       "       140318.45, 202781.02, 311411.84, 108165.32, 124393.04, 236250.17,\n",
       "       120733.5 , 365842.3 , 135281.1 , 151546.87, 116391.5 , 128520.  ,\n",
       "       386520.41, 147283.23, 121732.  , 198360.  , 121308.47, 352368.25,\n",
       "       139135.  , 237384.45, 191608.7 , 151315.75, 142645.  , 113571.32,\n",
       "        78060.5 , 146491.6 , 309835.94, 281421.69, 281353.99, 213841.78,\n",
       "       111610.  , 310001.2 , 114139.33, 165154.43, 128361.77, 130942.5 ,\n",
       "       113745.5 ,  90353.  , 437615.03, 172073.99, 312279.87, 297288.72,\n",
       "       137453.25, 124485.5 , 101859.5 , 103699.5 , 128668.5 , 101810.99,\n",
       "       156428.46, 132829.1 , 254275.35, 196537.64, 140614.  , 178142.98,\n",
       "       140530.05, 163637.71, 121328.83, 259116.13, 120914.55, 179353.04,\n",
       "       174556.4 , 160820.39, 225378.6 , 236561.  , 176184.37, 208711.12,\n",
       "       270147.4 , 139508.8 , 185364.7 , 164013.14, 145222.75, 276658.63,\n",
       "       140698.5 , 185171.34,  59464.  , 127695.5 , 134084.5 , 136951.97,\n",
       "       219344.59, 114035.83, 110564.  , 112255.  , 147938.87, 298343.84,\n",
       "       148651.6 , 142081.  , 177585.9 , 178332.48, 181025.3 , 130304.33,\n",
       "       246079.29, 113818.  , 141608.89, 178559.45, 188600.4 , 369715.98,\n",
       "       205597.33, 140582.39,  76327.54, 328849.56, 359637.44, 126696.83,\n",
       "       231188.49, 583679.88, 347323.01, 128515.  , 182474.5 , 162635.64,\n",
       "       137539.75, 113493.62, 225401.86, 190742.67, 130387.5 ,  72630.83,\n",
       "       113725.87, 139851.33, 219809.85, 161054.11, 102520.04, 140429.55,\n",
       "       145663.24, 145387.05,  91790.5 , 133746.75, 220809.18, 149636.67,\n",
       "       309253.11, 152544.85, 114255.16, 122131.79, 207946.6 , 346389.7 ,\n",
       "       417255.55, 233860.64, 345354.12,  98902.5 , 132262.85, 162589.  ,\n",
       "       334384.84, 149025.5 , 135322.58, 208097.77, 117588.83, 167419.67,\n",
       "       160590.  ,  91460.04, 139389.3 , 138833.61, 258219.63, 151012.5 ,\n",
       "       288791.97, 207856.9 , 193792.12,  91237.5 , 127180.82, 116295.  ,\n",
       "       125934.87, 146403.87, 189968.78, 159207.37, 244421.78,  94406.37,\n",
       "       218297.35, 115326.74, 229645.95, 185250.65, 128070.16, 332199.31,\n",
       "       191547.29, 132189.83, 242987.13, 140748.5 , 146456.55, 111854.16,\n",
       "       230527.96, 142081.37, 123088.  , 163770.03, 175381.47, 275483.07,\n",
       "       178965.32, 138900.5 , 127807.87, 135264.99, 140185.  , 247327.13,\n",
       "       187683.  , 103858.04, 238185.68, 147598.  , 107398.5 , 111201.  ,\n",
       "       167104.92, 111609.  , 109408.25, 184415.32, 121563.  , 141885.  ,\n",
       "       235734.43, 132363.86, 195864.68, 142952.  , 254701.66, 123009.32,\n",
       "       116512.32, 243908.4 , 214697.32, 389602.51, 190963.2 , 127935.62,\n",
       "       158493.3 , 158079.3 , 140514.5 , 104119.49, 175505.73, 170808.1 ,\n",
       "       142605.34,  96564.5 , 146212.87, 140772.  , 111309.85, 108607.5 ,\n",
       "       177836.82, 268232.78, 311602.21, 165162.  , 126794.  , 222971.23,\n",
       "       245307.5 , 208911.94, 167220.55, 139957.  , 126167.37, 169426.98,\n",
       "       387660.01, 217458.73, 235027.84, 110410.49, 103541.  , 141171.  ,\n",
       "       134978.85, 316993.68, 184384.5 , 152233.18, 208896.1 ,  94585.  ,\n",
       "       191780.46, 110553.04, 327125.05, 173700.87, 225699.71, 122033.  ,\n",
       "       235449.46, 177760.28, 136289.47, 115941.5 ])"
      ]
     },
     "execution_count": 13,
     "metadata": {},
     "output_type": "execute_result"
    }
   ],
   "source": [
    "y_pred"
   ]
  }
 ],
 "metadata": {
  "kaggle": {
   "accelerator": "none",
   "dataSources": [
    {
     "datasetId": 3484025,
     "sourceId": 6084836,
     "sourceType": "datasetVersion"
    }
   ],
   "dockerImageVersionId": 30761,
   "isGpuEnabled": false,
   "isInternetEnabled": true,
   "language": "python",
   "sourceType": "notebook"
  },
  "kernelspec": {
   "display_name": "Python 3",
   "language": "python",
   "name": "python3"
  },
  "language_info": {
   "codemirror_mode": {
    "name": "ipython",
    "version": 3
   },
   "file_extension": ".py",
   "mimetype": "text/x-python",
   "name": "python",
   "nbconvert_exporter": "python",
   "pygments_lexer": "ipython3",
   "version": "3.10.14"
  },
  "papermill": {
   "default_parameters": {},
   "duration": 15.707347,
   "end_time": "2024-09-02T21:29:27.393853",
   "environment_variables": {},
   "exception": null,
   "input_path": "__notebook__.ipynb",
   "output_path": "__notebook__.ipynb",
   "parameters": {},
   "start_time": "2024-09-02T21:29:11.686506",
   "version": "2.6.0"
  }
 },
 "nbformat": 4,
 "nbformat_minor": 5
}
